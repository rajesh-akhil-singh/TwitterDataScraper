{
 "cells": [
  {
   "cell_type": "markdown",
   "metadata": {},
   "source": [
    "# Importing Required Libraries"
   ]
  },
  {
   "cell_type": "code",
   "execution_count": 1,
   "metadata": {},
   "outputs": [],
   "source": [
    "import pandas as pd\n",
    "import numpy as np\n",
    "import time\n",
    "import csv\n",
    "from selenium import webdriver\n",
    "from selenium.webdriver.common.keys import Keys"
   ]
  },
  {
   "cell_type": "markdown",
   "metadata": {},
   "source": [
    "# Inserting the Twitter link and setting up the driver"
   ]
  },
  {
   "cell_type": "code",
   "execution_count": 2,
   "metadata": {},
   "outputs": [],
   "source": [
    "browser = webdriver.Firefox()\n",
    "\n",
    "url = 'https://twitter.com/search?f=tweets&vertical=default&q=from%3Aminiminter%20since%3A2019-01-09%20until%3A2019-05-20&src=typd'\n",
    "\n",
    "browser.get(url)\n",
    "\n",
    "time.sleep(2)"
   ]
  },
  {
   "cell_type": "markdown",
   "metadata": {},
   "source": [
    "# Inserting the number of pages to scrape"
   ]
  },
  {
   "cell_type": "code",
   "execution_count": 3,
   "metadata": {},
   "outputs": [],
   "source": [
    "body = browser.find_element_by_tag_name('body')\n",
    "for _ in range(10):\n",
    "    body.send_keys(Keys.PAGE_DOWN)\n",
    "    time.sleep(2)"
   ]
  },
  {
   "cell_type": "markdown",
   "metadata": {},
   "source": [
    "# Extracting the body text of the tweet"
   ]
  },
  {
   "cell_type": "code",
   "execution_count": 4,
   "metadata": {},
   "outputs": [
    {
     "name": "stdout",
     "output_type": "stream",
     "text": [
      "20\n"
     ]
    }
   ],
   "source": [
    "tweets = browser.find_elements_by_class_name('TweetTextSize')\n",
    "num_len_tweets = len(tweets)\n",
    "print(num_len_tweets)"
   ]
  },
  {
   "cell_type": "markdown",
   "metadata": {},
   "source": [
    "# Extracting Date"
   ]
  },
  {
   "cell_type": "code",
   "execution_count": 5,
   "metadata": {},
   "outputs": [
    {
     "name": "stdout",
     "output_type": "stream",
     "text": [
      "20\n"
     ]
    }
   ],
   "source": [
    "date = browser.find_elements_by_class_name('time')\n",
    "num_len_date = len(date)\n",
    "print(num_len_date)"
   ]
  },
  {
   "cell_type": "markdown",
   "metadata": {},
   "source": [
    "# Extracting Retweets, Comments and Likes"
   ]
  },
  {
   "cell_type": "code",
   "execution_count": 6,
   "metadata": {},
   "outputs": [
    {
     "name": "stdout",
     "output_type": "stream",
     "text": [
      "100\n"
     ]
    }
   ],
   "source": [
    "All = browser.find_elements_by_xpath('//span[@class = \"ProfileTweet-actionCountForPresentation\"]')\n",
    "df=pd.DataFrame(All)\n",
    "num_len_All = len(All)\n",
    "print(len(All))"
   ]
  },
  {
   "cell_type": "markdown",
   "metadata": {},
   "source": [
    "# Processing scraped data to text form for saving"
   ]
  },
  {
   "cell_type": "code",
   "execution_count": 7,
   "metadata": {},
   "outputs": [],
   "source": [
    "#aList = [reply,retweet]\n",
    "\n",
    "tweet, reply, retweet, na1, like, na2 =([] for i in range(6))\n",
    "\n",
    "i = 0\n",
    "while (i < num_len_All):\n",
    "    reply.append(All[i].text)\n",
    "    i+=1\n",
    "    retweet.append(All[i].text)\n",
    "    i+=1\n",
    "    na1.append(All[i].text)\n",
    "    i+=1\n",
    "    like.append(All[i].text)\n",
    "    i+=1\n",
    "    na2.append(All[i].text)\n",
    "    i+=1\n",
    "\n",
    "i = 0\n",
    "while (i < num_len_tweets):\n",
    "    tweet.append(tweets[i].text.replace('\\n',''))\n",
    "    i+=1\n",
    "    \n",
    "dates = [date[x].text for x in range(num_len_date)]"
   ]
  },
  {
   "cell_type": "code",
   "execution_count": 8,
   "metadata": {},
   "outputs": [],
   "source": [
    "data  = pd.DataFrame({'Tweet' : tweet,'Reply':reply, 'Retweet': retweet, 'Like': like, 'Date': dates})"
   ]
  },
  {
   "cell_type": "code",
   "execution_count": 9,
   "metadata": {},
   "outputs": [],
   "source": [
    "data.to_csv('Tweet_Stats.csv')"
   ]
  }
 ],
 "metadata": {
  "kernelspec": {
   "display_name": "Python 3",
   "language": "python",
   "name": "python3"
  },
  "language_info": {
   "codemirror_mode": {
    "name": "ipython",
    "version": 3
   },
   "file_extension": ".py",
   "mimetype": "text/x-python",
   "name": "python",
   "nbconvert_exporter": "python",
   "pygments_lexer": "ipython3",
   "version": "3.7.1"
  }
 },
 "nbformat": 4,
 "nbformat_minor": 2
}
